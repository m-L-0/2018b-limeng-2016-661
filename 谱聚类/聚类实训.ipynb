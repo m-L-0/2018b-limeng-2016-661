{
 "cells": [
  {
   "cell_type": "code",
   "execution_count": 1,
   "metadata": {},
   "outputs": [],
   "source": [
    "import networkx as nx\n",
    "import matplotlib.pyplot as plt\n",
    "import numpy as np"
   ]
  },
  {
   "cell_type": "code",
   "execution_count": 2,
   "metadata": {},
   "outputs": [],
   "source": [
    "from sklearn.datasets import load_iris  \n",
    "#载入数据集  \n",
    "iris = load_iris()  "
   ]
  },
  {
   "cell_type": "code",
   "execution_count": 3,
   "metadata": {},
   "outputs": [],
   "source": [
    "x = iris.data\n",
    "y = iris.target"
   ]
  },
  {
   "cell_type": "markdown",
   "metadata": {},
   "source": [
    "# 相似度矩阵"
   ]
  },
  {
   "cell_type": "code",
   "execution_count": 4,
   "metadata": {},
   "outputs": [],
   "source": [
    "distance = np.zeros((150, 150))#初始化相似度矩阵"
   ]
  },
  {
   "cell_type": "code",
   "execution_count": 5,
   "metadata": {},
   "outputs": [],
   "source": [
    "#用余弦夹角计算相似度,数越大表示夹角越小，相似度越高\n",
    "for i in  range(0,150):\n",
    "    for j in range(0,150):\n",
    "        distance[i][j]= np.inner(x[i],x[j])/np.sqrt(np.inner(x[i],x[i])*np.inner(x[j],x[j]))"
   ]
  },
  {
   "cell_type": "code",
   "execution_count": 6,
   "metadata": {},
   "outputs": [
    {
     "name": "stdout",
     "output_type": "stream",
     "text": [
      "[[1.         0.99857916 0.99998735 ... 0.89178641 0.8839093  0.88670276]\n",
      " [0.99857916 1.         0.99879145 ... 0.90415045 0.89380008 0.89787445]\n",
      " [0.99998735 0.99879145 1.         ... 0.89362867 0.88566903 0.88845942]\n",
      " ...\n",
      " [0.89178641 0.90415045 0.89362867 ... 1.         0.99780473 0.99912584]\n",
      " [0.8839093  0.89380008 0.88566903 ... 0.99780473 1.         0.99886925]\n",
      " [0.88670276 0.89787445 0.88845942 ... 0.99912584 0.99886925 1.        ]]\n"
     ]
    }
   ],
   "source": [
    "print(distance)"
   ]
  },
  {
   "cell_type": "markdown",
   "metadata": {},
   "source": [
    "# 将样本转化成图的形式"
   ]
  },
  {
   "cell_type": "code",
   "execution_count": 7,
   "metadata": {},
   "outputs": [],
   "source": [
    "H = nx.Graph()\n",
    "Matrix = np.ndarray.tolist(distance)"
   ]
  },
  {
   "cell_type": "code",
   "execution_count": 8,
   "metadata": {},
   "outputs": [
    {
     "data": {
      "image/png": "[encoded data removed]",
      "text/plain": [
       "<Figure size 432x288 with 1 Axes>"
      ]
     },
     "metadata": {},
     "output_type": "display_data"
    }
   ],
   "source": [
    "for i in range(0,150):\n",
    "    for j in range(i,150):\n",
    "        if Matrix[i][j]>0.99898:\n",
    "            H.add_edge(i,j)\n",
    "nx.draw(H,node_size=100)\n",
    "plt.show()"
   ]
  },
  {
   "cell_type": "markdown",
   "metadata": {},
   "source": [
    "# 求取带权邻接矩阵"
   ]
  },
  {
   "cell_type": "code",
   "execution_count": 9,
   "metadata": {},
   "outputs": [],
   "source": [
    "lin=distance"
   ]
  },
  {
   "cell_type": "code",
   "execution_count": 10,
   "metadata": {},
   "outputs": [],
   "source": [
    "#小于阈值的数都设为零，减小计算量\n",
    "for i in range(0,150):\n",
    "    for j in range(0,150):\n",
    "        if (lin[i,j]<0.99898):\n",
    "            lin[i][j]=0\n",
    "    lin[i][i]=0"
   ]
  },
  {
   "cell_type": "code",
   "execution_count": 11,
   "metadata": {},
   "outputs": [
    {
     "data": {
      "text/plain": [
       "array([[0.        , 0.        , 0.99998735, ..., 0.        , 0.        ,\n",
       "        0.        ],\n",
       "       [0.        , 0.        , 0.        , ..., 0.        , 0.        ,\n",
       "        0.        ],\n",
       "       [0.99998735, 0.        , 0.        , ..., 0.        , 0.        ,\n",
       "        0.        ],\n",
       "       ...,\n",
       "       [0.        , 0.        , 0.        , ..., 0.        , 0.        ,\n",
       "        0.99912584],\n",
       "       [0.        , 0.        , 0.        , ..., 0.        , 0.        ,\n",
       "        0.        ],\n",
       "       [0.        , 0.        , 0.        , ..., 0.99912584, 0.        ,\n",
       "        0.        ]])"
      ]
     },
     "execution_count": 11,
     "metadata": {},
     "output_type": "execute_result"
    }
   ],
   "source": [
    "lin"
   ]
  },
  {
   "cell_type": "markdown",
   "metadata": {},
   "source": [
    "# 度数矩阵"
   ]
  },
  {
   "cell_type": "code",
   "execution_count": 12,
   "metadata": {},
   "outputs": [],
   "source": [
    "d = np.diag(np.zeros(150))"
   ]
  },
  {
   "cell_type": "code",
   "execution_count": 13,
   "metadata": {},
   "outputs": [],
   "source": [
    "for i in range(150):\n",
    "    a=0\n",
    "    for j in range(150):\n",
    "         if(lin[i,j]!=0):\n",
    "                a=a+1\n",
    "    d[i,i]=a"
   ]
  },
  {
   "cell_type": "code",
   "execution_count": 14,
   "metadata": {},
   "outputs": [
    {
     "data": {
      "text/plain": [
       "array([[25.,  0.,  0., ...,  0.,  0.,  0.],\n",
       "       [ 0., 16.,  0., ...,  0.,  0.,  0.],\n",
       "       [ 0.,  0., 27., ...,  0.,  0.,  0.],\n",
       "       ...,\n",
       "       [ 0.,  0.,  0., ..., 25.,  0.,  0.],\n",
       "       [ 0.,  0.,  0., ...,  0.,  6.,  0.],\n",
       "       [ 0.,  0.,  0., ...,  0.,  0., 22.]])"
      ]
     },
     "execution_count": 14,
     "metadata": {},
     "output_type": "execute_result"
    }
   ],
   "source": [
    "d"
   ]
  },
  {
   "cell_type": "markdown",
   "metadata": {},
   "source": [
    "# 拉普拉斯矩阵"
   ]
  },
  {
   "cell_type": "code",
   "execution_count": 15,
   "metadata": {},
   "outputs": [],
   "source": [
    "L=d-lin"
   ]
  },
  {
   "cell_type": "code",
   "execution_count": 16,
   "metadata": {},
   "outputs": [
    {
     "data": {
      "text/plain": [
       "array([[25.        ,  0.        , -0.99998735, ...,  0.        ,\n",
       "         0.        ,  0.        ],\n",
       "       [ 0.        , 16.        ,  0.        , ...,  0.        ,\n",
       "         0.        ,  0.        ],\n",
       "       [-0.99998735,  0.        , 27.        , ...,  0.        ,\n",
       "         0.        ,  0.        ],\n",
       "       ...,\n",
       "       [ 0.        ,  0.        ,  0.        , ..., 25.        ,\n",
       "         0.        , -0.99912584],\n",
       "       [ 0.        ,  0.        ,  0.        , ...,  0.        ,\n",
       "         6.        ,  0.        ],\n",
       "       [ 0.        ,  0.        ,  0.        , ..., -0.99912584,\n",
       "         0.        , 22.        ]])"
      ]
     },
     "execution_count": 16,
     "metadata": {},
     "output_type": "execute_result"
    }
   ],
   "source": [
    "L"
   ]
  },
  {
   "cell_type": "markdown",
   "metadata": {},
   "source": [
    "# 求取特征向量，特征值"
   ]
  },
  {
   "cell_type": "code",
   "execution_count": 17,
   "metadata": {},
   "outputs": [],
   "source": [
    "a,b=np.linalg.eig(L) "
   ]
  },
  {
   "cell_type": "code",
   "execution_count": 18,
   "metadata": {},
   "outputs": [],
   "source": [
    "index = np.argsort(a)[:4]"
   ]
  },
  {
   "cell_type": "code",
   "execution_count": 19,
   "metadata": {},
   "outputs": [
    {
     "data": {
      "text/plain": [
       "array([149,  11,   1,  15], dtype=int64)"
      ]
     },
     "execution_count": 19,
     "metadata": {},
     "output_type": "execute_result"
    }
   ],
   "source": [
    "#因为特征值最小的是零，所以要舍去第一个，留下三个剩余的三个索引号\n",
    "index "
   ]
  },
  {
   "cell_type": "code",
   "execution_count": 20,
   "metadata": {},
   "outputs": [],
   "source": [
    "index=index[1:4]"
   ]
  },
  {
   "cell_type": "code",
   "execution_count": 21,
   "metadata": {},
   "outputs": [],
   "source": [
    "from sklearn.preprocessing import normalize"
   ]
  },
  {
   "cell_type": "code",
   "execution_count": 22,
   "metadata": {},
   "outputs": [],
   "source": [
    "k = normalize(b[:, index])"
   ]
  },
  {
   "cell_type": "markdown",
   "metadata": {},
   "source": [
    "# k-means聚类"
   ]
  },
  {
   "cell_type": "code",
   "execution_count": 23,
   "metadata": {},
   "outputs": [],
   "source": [
    "from numpy import *  \n",
    "import time "
   ]
  },
  {
   "cell_type": "code",
   "execution_count": 24,
   "metadata": {},
   "outputs": [],
   "source": [
    "#计算欧氏距离\n",
    "def euclDistance(vector1, vector2):  \n",
    "    return sqrt(sum(power(vector2 - vector1, 2))) "
   ]
  },
  {
   "cell_type": "code",
   "execution_count": 25,
   "metadata": {},
   "outputs": [],
   "source": [
    "def  kmeans(dataSet, k):\n",
    "    numSamples,dim= dataSet.shape\n",
    "    clusterAssment = mat(zeros((numSamples, 2)))  #得到一个N*2的零矩阵,保存第i个样本的类别标号以及到质心的距离\n",
    "    clusterChanged = True\n",
    "    \n",
    "    #初始化质心，从样本中随机选取K个作为初始质心\n",
    "    centroids = zeros((k, dim))\n",
    "    for i in range(k):  \n",
    "        index = int(random.uniform(0, numSamples))#随机产生一个数，作为质心的索引号\n",
    "        centroids[i, :] = dataSet[index, :]\n",
    "    \n",
    "    \n",
    "    while clusterChanged:  \n",
    "        clusterChanged = False  \n",
    "        for i in range(numSamples): \n",
    "            minDist  = 100000.0  \n",
    "            minIndex = 0  \n",
    "            #计算每个样本点与质点之间的距离，将其归内到距离最小的那一簇\n",
    "            for j in range(k):  \n",
    "                distance = euclDistance(centroids[j, :], dataSet[i, :])  \n",
    "                if distance < minDist:  \n",
    "                    minDist  = distance  \n",
    "                    minIndex = j  \n",
    "\n",
    "            #若所有的样本不在变化，则退出while循环\n",
    "            if clusterAssment[i, 0] != minIndex:  \n",
    "                clusterChanged = True  \n",
    "                clusterAssment[i, :] = minIndex, minDist**2 \n",
    "\n",
    "        #更新质心\n",
    "        for j in range(k):  \n",
    "            pointsInCluster = dataSet[nonzero(clusterAssment[:, 0].A ==j)[0]] #将dataSet矩阵中相对应的样本提取出来 \n",
    "            centroids[j, :] = mean(pointsInCluster, axis = 0)\n",
    "    return centroids, clusterAssment "
   ]
  },
  {
   "cell_type": "code",
   "execution_count": 26,
   "metadata": {},
   "outputs": [],
   "source": [
    "from sklearn.metrics import accuracy_score"
   ]
  },
  {
   "cell_type": "code",
   "execution_count": 41,
   "metadata": {},
   "outputs": [
    {
     "name": "stdout",
     "output_type": "stream",
     "text": [
      "0.9666666666666667\n"
     ]
    }
   ],
   "source": [
    "centroids,clustAssment = kmeans(k,3)\n",
    "a=clustAssment.A[:,0]\n",
    "print(accuracy_score(y,a))  #打印聚类的正确率"
   ]
  },
  {
   "cell_type": "code",
   "execution_count": 42,
   "metadata": {},
   "outputs": [
    {
     "data": {
      "text/plain": [
       "array([0., 0., 0., 0., 0., 0., 0., 0., 0., 0., 0., 0., 0., 0., 0., 0., 0.,\n",
       "       0., 0., 0., 0., 0., 0., 0., 0., 0., 0., 0., 0., 0., 0., 0., 0., 0.,\n",
       "       0., 0., 0., 0., 0., 0., 0., 1., 0., 0., 0., 0., 0., 0., 0., 0., 1.,\n",
       "       1., 1., 1., 1., 1., 1., 1., 1., 1., 1., 1., 1., 1., 1., 1., 1., 1.,\n",
       "       1., 1., 2., 1., 2., 1., 1., 1., 1., 1., 1., 1., 1., 1., 1., 2., 2.,\n",
       "       1., 1., 1., 1., 1., 1., 1., 1., 1., 1., 1., 1., 1., 1., 1., 2., 2.,\n",
       "       2., 2., 2., 2., 2., 2., 2., 2., 2., 2., 2., 2., 2., 2., 2., 2., 2.,\n",
       "       2., 2., 2., 2., 2., 2., 2., 2., 2., 2., 2., 2., 2., 2., 2., 2., 2.,\n",
       "       2., 2., 2., 2., 2., 2., 2., 2., 2., 2., 2., 2., 2., 2.])"
      ]
     },
     "execution_count": 42,
     "metadata": {},
     "output_type": "execute_result"
    }
   ],
   "source": [
    "#聚类后的类别标签\n",
    "a"
   ]
  },
  {
   "cell_type": "code",
   "execution_count": 43,
   "metadata": {},
   "outputs": [],
   "source": [
    "H = nx.Graph()\n",
    "Matrix = np.ndarray.tolist(distance)"
   ]
  },
  {
   "cell_type": "code",
   "execution_count": 44,
   "metadata": {},
   "outputs": [],
   "source": [
    "#区分不同的类别\n",
    "node_color=[]\n",
    "node_color0=[]\n",
    "node_color1=[]\n",
    "node_color2=[]\n",
    "for i in range(150):\n",
    "    if(a[i]==0):\n",
    "        color = 'r'\n",
    "        node_color0.append(color)\n",
    "    elif(a[i]==1):\n",
    "        color = 'g'\n",
    "        node_color1.append(color)\n",
    "    else:\n",
    "        color = 'b'\n",
    "        node_color1.append(color)\n",
    "        \n",
    "    node_color.append(color)"
   ]
  },
  {
   "cell_type": "code",
   "execution_count": 45,
   "metadata": {},
   "outputs": [
    {
     "data": {
      "image/png": "[encoded data removed]",
      "text/plain": [
       "<Figure size 432x288 with 1 Axes>"
      ]
     },
     "metadata": {},
     "output_type": "display_data"
    }
   ],
   "source": [
    "for i in range(0,150):\n",
    "    for j in range(i,150):\n",
    "        if Matrix[i][j]>0.99898:\n",
    "            H.add_edge(i,j)\n",
    "nx.draw(H,node_size=100,node_color=node_color)\n",
    "plt.show()"
   ]
  },
  {
   "cell_type": "code",
   "execution_count": null,
   "metadata": {},
   "outputs": [],
   "source": []
  }
 ],
 "metadata": {
  "kernelspec": {
   "display_name": "Python 3",
   "language": "python",
   "name": "python3"
  },
  "language_info": {
   "codemirror_mode": {
    "name": "ipython",
    "version": 3
   },
   "file_extension": ".py",
   "mimetype": "text/x-python",
   "name": "python",
   "nbconvert_exporter": "python",
   "pygments_lexer": "ipython3",
   "version": "3.6.5"
  }
 },
 "nbformat": 4,
 "nbformat_minor": 2
}
