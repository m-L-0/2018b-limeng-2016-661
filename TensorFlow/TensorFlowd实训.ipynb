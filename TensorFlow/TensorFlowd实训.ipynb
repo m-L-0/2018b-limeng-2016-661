{
 "cells": [
  {
   "cell_type": "code",
   "execution_count": 2,
   "metadata": {},
   "outputs": [
    {
     "name": "stderr",
     "output_type": "stream",
     "text": [
      "D:\\lala\\lib\\site-packages\\h5py\\__init__.py:36: FutureWarning: Conversion of the second argument of issubdtype from `float` to `np.floating` is deprecated. In future, it will be treated as `np.float64 == np.dtype(float).type`.\n",
      "  from ._conv import register_converters as _register_converters\n"
     ]
    }
   ],
   "source": [
    "import tensorflow as tf"
   ]
  },
  {
   "cell_type": "code",
   "execution_count": 3,
   "metadata": {},
   "outputs": [],
   "source": [
    "import numpy as np"
   ]
  },
  {
   "cell_type": "markdown",
   "metadata": {},
   "source": [
    "# 导入数据集 以及数据集划分"
   ]
  },
  {
   "cell_type": "code",
   "execution_count": 4,
   "metadata": {},
   "outputs": [],
   "source": [
    "from sklearn.datasets import load_iris    \n",
    "iris = load_iris()  "
   ]
  },
  {
   "cell_type": "code",
   "execution_count": 5,
   "metadata": {},
   "outputs": [],
   "source": [
    "x = iris.data\n",
    "y = iris.target"
   ]
  },
  {
   "cell_type": "code",
   "execution_count": 6,
   "metadata": {},
   "outputs": [],
   "source": [
    "from sklearn.model_selection import train_test_split\n",
    "Xtrain, Xtest, Ytrain, Ytest = train_test_split(x, y, test_size = 0.2,shuffle=True)"
   ]
  },
  {
   "cell_type": "markdown",
   "metadata": {},
   "source": [
    "# KNN算法"
   ]
  },
  {
   "cell_type": "code",
   "execution_count": 7,
   "metadata": {},
   "outputs": [],
   "source": [
    "def Knn (Xtrain, Xtest, Ytrain, Ytest,K):\n",
    "    # 设置占位符\n",
    "    xtr = tf.placeholder(\"float\", [None, 4])\n",
    "    xte = tf.placeholder(\"float\", [4])\n",
    "    #曼哈顿距离\n",
    "    distance = tf.reduce_sum(tf.abs(tf.add(xtr, tf.negative(xte))), reduction_indices=1)\n",
    "    \n",
    "    #打开会话\n",
    "    with tf.Session() as sess:\n",
    "        #存放预测结果\n",
    "        predict = []\n",
    "        for i in range(len(Xtest)):\n",
    "            dist = sess.run(distance, feed_dict={xtr:Xtrain, xte:Xtest[i]}) \n",
    "            #取出dist前K个最小值的索引号\n",
    "            index = np.argsort(dist)[:K]\n",
    "            #取出索引的对应的距离\n",
    "            X=[]\n",
    "            for i in (index):\n",
    "                X.append(dist[i])\n",
    "            #将索引号和对应的距离组成二维矩阵\n",
    "            idx=np.vstack((index,X))\n",
    "            classes=np.zeros(3)\n",
    "            #根据K个近邻进行加权投票\n",
    "            for i in range(K):\n",
    "                m=int(idx[0,i])\n",
    "                if(Ytrain[m]==0):\n",
    "                    classes[0] += (1-idx[1,i]/100)*1\n",
    "                elif(Ytrain[m]==1):\n",
    "                    classes[1] += (1-idx[1,i]/100)*1\n",
    "                else:\n",
    "                    classes[2] += (1-idx[1,i]/100)*1\n",
    "            y_pred = np.argmax(classes)\n",
    "            predict.append(y_pred)\n",
    "        return predict"
   ]
  },
  {
   "cell_type": "code",
   "execution_count": 8,
   "metadata": {},
   "outputs": [],
   "source": [
    "from sklearn import metrics"
   ]
  },
  {
   "cell_type": "code",
   "execution_count": 9,
   "metadata": {},
   "outputs": [
    {
     "name": "stdout",
     "output_type": "stream",
     "text": [
      "0.9\n",
      "0.9\n",
      "0.9333333333333333\n",
      "0.9\n",
      "0.8666666666666667\n",
      "0.8666666666666667\n",
      "0.9333333333333333\n",
      "0.9666666666666667\n",
      "0.9333333333333333\n"
     ]
    }
   ],
   "source": [
    "with tf.Session() as sess:\n",
    "    for K in range(1,10): \n",
    "        y_pred = Knn(Xtrain, Xtest, Ytrain, Ytest,K)\n",
    "        print(metrics.accuracy_score(y_pred,Ytest ))"
   ]
  },
  {
   "cell_type": "markdown",
   "metadata": {},
   "source": []
  }
 ],
 "metadata": {
  "kernelspec": {
   "display_name": "Python 3",
   "language": "python",
   "name": "python3"
  },
  "language_info": {
   "codemirror_mode": {
    "name": "ipython",
    "version": 3
   },
   "file_extension": ".py",
   "mimetype": "text/x-python",
   "name": "python",
   "nbconvert_exporter": "python",
   "pygments_lexer": "ipython3",
   "version": "3.6.5"
  }
 },
 "nbformat": 4,
 "nbformat_minor": 2
}
